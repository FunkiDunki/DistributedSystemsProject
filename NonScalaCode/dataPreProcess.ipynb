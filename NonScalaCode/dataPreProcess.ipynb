{
 "cells": [
  {
   "cell_type": "code",
   "execution_count": 30,
   "id": "initial_id",
   "metadata": {
    "ExecuteTime": {
     "end_time": "2025-06-06T00:15:58.583118Z",
     "start_time": "2025-06-06T00:15:58.579376Z"
    },
    "collapsed": true
   },
   "outputs": [
    {
     "data": {
      "text/plain": [
       "array(['OKMULGEE', 'CENTRE', 'PIPESTONE', 'MIAMI-DADE', 'HURON', 'PLACER',\n",
       "       'LYON', 'FULTON', 'JEFFERSON', 'SEDGWICK', 'SACRAMENTO', 'WAYNE',\n",
       "       'CROW WING', 'JACKSON', 'SMITH', 'ESSEX', 'WORCESTER', 'CLINTON',\n",
       "       'TORRANCE', 'ST. FRANCIS', 'OSCEOLA', 'CALVERT', 'JOHNSON',\n",
       "       'GARFIELD', 'MCLEAN', 'WESTERN CONNECTICUT PLANNING R', 'KANKAKEE',\n",
       "       'CHELAN', 'NORTON', 'ST. LOUIS', 'HAMPTON', 'LOS ANGELES',\n",
       "       'GUNNISON', 'OTTAWA', 'NAVAJO', 'KAUFMAN', 'MIDDLESEX', 'KIOWA',\n",
       "       'RUTHERFORD', 'CHEROKEE', 'JEWELL', 'CHOCTAW', 'MARION', 'BUTLER',\n",
       "       'PROVIDENCE', 'BARRY', 'COSHOCTON', 'SHIAWASSEE'], dtype=object)"
      ]
     },
     "execution_count": 30,
     "metadata": {},
     "output_type": "execute_result"
    }
   ],
   "source": [
    "import pandas as pd\n",
    "from typing import *\n",
    "\n",
    "\n",
    "\n",
    "df = pd.read_csv(\"/home/ethant/Projects/calPoly/369/DistributedSystemsProject/Data/features_std_sample_50.csv\")\n",
    "df_2 =  pd.read_csv(\"/home/ethant/Projects/calPoly/369/DistributedSystemsProject/Data/features_std_k3.csv\")\n",
    "\n",
    "\n",
    "df[\"cty_name\"].unique()\n",
    "\n"
   ]
  }
 ],
 "metadata": {
  "kernelspec": {
   "display_name": ".venv",
   "language": "python",
   "name": "python3"
  },
  "language_info": {
   "codemirror_mode": {
    "name": "ipython",
    "version": 3
   },
   "file_extension": ".py",
   "mimetype": "text/x-python",
   "name": "python",
   "nbconvert_exporter": "python",
   "pygments_lexer": "ipython3",
   "version": "3.13.3"
  }
 },
 "nbformat": 4,
 "nbformat_minor": 5
}
