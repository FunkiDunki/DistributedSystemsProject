{
 "cells": [
  {
   "cell_type": "markdown",
   "id": "8ab064b2",
   "metadata": {},
   "source": [
    "# If you want you can use this for Data manipulation"
   ]
  },
  {
   "cell_type": "markdown",
   "id": "08e1040a",
   "metadata": {},
   "source": []
  }
 ],
 "metadata": {
  "language_info": {
   "name": "python"
  }
 },
 "nbformat": 4,
 "nbformat_minor": 5
}
