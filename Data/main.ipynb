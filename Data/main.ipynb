{
 "cells": [
  {
   "cell_type": "markdown",
   "id": "8ab064b2",
   "metadata": {},
   "source": [
    "# Standardise Data"
   ]
  },
  {
   "cell_type": "code",
   "execution_count": 2,
   "id": "cc8af6ea",
   "metadata": {},
   "outputs": [],
   "source": [
    "import pandas as pd\n",
    "import numpy as np\n",
    "\n",
    "def load_data(file_path):\n",
    "    \"\"\"\n",
    "    Load data from a CSV file and return a DataFrame.\n",
    "    \n",
    "    :param file_path: Path to the CSV file\n",
    "    :return: DataFrame containing the loaded data\n",
    "    \"\"\"\n",
    "    try:\n",
    "        df = pd.read_csv(file_path)\n",
    "        return df\n",
    "    except Exception as e:\n",
    "        print(f\"Error loading data: {e}\")\n",
    "        return None"
   ]
  },
  {
   "cell_type": "code",
   "execution_count": 14,
   "id": "08e1040a",
   "metadata": {},
   "outputs": [],
   "source": [
    "raw_data = pd.read_csv(\"features.csv\")"
   ]
  },
  {
   "cell_type": "code",
   "execution_count": 15,
   "id": "8467e443",
   "metadata": {},
   "outputs": [
    {
     "data": {
      "text/html": [
       "<div>\n",
       "<style scoped>\n",
       "    .dataframe tbody tr th:only-of-type {\n",
       "        vertical-align: middle;\n",
       "    }\n",
       "\n",
       "    .dataframe tbody tr th {\n",
       "        vertical-align: top;\n",
       "    }\n",
       "\n",
       "    .dataframe thead th {\n",
       "        text-align: right;\n",
       "    }\n",
       "</style>\n",
       "<table border=\"1\" class=\"dataframe\">\n",
       "  <thead>\n",
       "    <tr style=\"text-align: right;\">\n",
       "      <th></th>\n",
       "      <th>zip</th>\n",
       "      <th>stabbr</th>\n",
       "      <th>cty_name</th>\n",
       "      <th>est_per_capita</th>\n",
       "      <th>MEDFAMINC</th>\n",
       "    </tr>\n",
       "  </thead>\n",
       "  <tbody>\n",
       "    <tr>\n",
       "      <th>0</th>\n",
       "      <td>1001</td>\n",
       "      <td>MA</td>\n",
       "      <td>HAMPDEN</td>\n",
       "      <td>0.029230</td>\n",
       "      <td>101722.0</td>\n",
       "    </tr>\n",
       "    <tr>\n",
       "      <th>1</th>\n",
       "      <td>1002</td>\n",
       "      <td>MA</td>\n",
       "      <td>HAMPSHIRE</td>\n",
       "      <td>0.021877</td>\n",
       "      <td>138520.0</td>\n",
       "    </tr>\n",
       "    <tr>\n",
       "      <th>2</th>\n",
       "      <td>1005</td>\n",
       "      <td>MA</td>\n",
       "      <td>WORCESTER</td>\n",
       "      <td>0.022121</td>\n",
       "      <td>111000.0</td>\n",
       "    </tr>\n",
       "    <tr>\n",
       "      <th>3</th>\n",
       "      <td>1007</td>\n",
       "      <td>MA</td>\n",
       "      <td>HAMPSHIRE</td>\n",
       "      <td>0.015292</td>\n",
       "      <td>123932.0</td>\n",
       "    </tr>\n",
       "    <tr>\n",
       "      <th>4</th>\n",
       "      <td>1008</td>\n",
       "      <td>MA</td>\n",
       "      <td>HAMPDEN</td>\n",
       "      <td>0.017059</td>\n",
       "      <td>112083.0</td>\n",
       "    </tr>\n",
       "  </tbody>\n",
       "</table>\n",
       "</div>"
      ],
      "text/plain": [
       "    zip stabbr   cty_name  est_per_capita  MEDFAMINC\n",
       "0  1001     MA    HAMPDEN        0.029230   101722.0\n",
       "1  1002     MA  HAMPSHIRE        0.021877   138520.0\n",
       "2  1005     MA  WORCESTER        0.022121   111000.0\n",
       "3  1007     MA  HAMPSHIRE        0.015292   123932.0\n",
       "4  1008     MA    HAMPDEN        0.017059   112083.0"
      ]
     },
     "execution_count": 15,
     "metadata": {},
     "output_type": "execute_result"
    }
   ],
   "source": [
    "raw_data.head()"
   ]
  },
  {
   "cell_type": "code",
   "execution_count": 16,
   "id": "504c264c",
   "metadata": {},
   "outputs": [],
   "source": [
    "std_data = raw_data.copy()\n",
    "\n",
    "# standardize est_per_capita and MEDFAMINC \n",
    "std_data['est_per_capita'] = (raw_data['est_per_capita'] - raw_data['est_per_capita'].mean()) / raw_data['est_per_capita'].std()\n",
    "std_data['MEDFAMINC'] = (raw_data['MEDFAMINC'] - raw_data['MEDFAMINC'].mean()) / raw_data['MEDFAMINC'].std()"
   ]
  },
  {
   "cell_type": "code",
   "execution_count": 17,
   "id": "a9eea75d",
   "metadata": {},
   "outputs": [
    {
     "data": {
      "text/html": [
       "<div>\n",
       "<style scoped>\n",
       "    .dataframe tbody tr th:only-of-type {\n",
       "        vertical-align: middle;\n",
       "    }\n",
       "\n",
       "    .dataframe tbody tr th {\n",
       "        vertical-align: top;\n",
       "    }\n",
       "\n",
       "    .dataframe thead th {\n",
       "        text-align: right;\n",
       "    }\n",
       "</style>\n",
       "<table border=\"1\" class=\"dataframe\">\n",
       "  <thead>\n",
       "    <tr style=\"text-align: right;\">\n",
       "      <th></th>\n",
       "      <th>zip</th>\n",
       "      <th>stabbr</th>\n",
       "      <th>cty_name</th>\n",
       "      <th>est_per_capita</th>\n",
       "      <th>MEDFAMINC</th>\n",
       "    </tr>\n",
       "  </thead>\n",
       "  <tbody>\n",
       "    <tr>\n",
       "      <th>0</th>\n",
       "      <td>1001</td>\n",
       "      <td>MA</td>\n",
       "      <td>HAMPDEN</td>\n",
       "      <td>0.137154</td>\n",
       "      <td>0.318444</td>\n",
       "    </tr>\n",
       "    <tr>\n",
       "      <th>1</th>\n",
       "      <td>1002</td>\n",
       "      <td>MA</td>\n",
       "      <td>HAMPSHIRE</td>\n",
       "      <td>-0.095429</td>\n",
       "      <td>1.340800</td>\n",
       "    </tr>\n",
       "    <tr>\n",
       "      <th>2</th>\n",
       "      <td>1005</td>\n",
       "      <td>MA</td>\n",
       "      <td>WORCESTER</td>\n",
       "      <td>-0.087712</td>\n",
       "      <td>0.576214</td>\n",
       "    </tr>\n",
       "    <tr>\n",
       "      <th>3</th>\n",
       "      <td>1007</td>\n",
       "      <td>MA</td>\n",
       "      <td>HAMPSHIRE</td>\n",
       "      <td>-0.303737</td>\n",
       "      <td>0.935503</td>\n",
       "    </tr>\n",
       "    <tr>\n",
       "      <th>4</th>\n",
       "      <td>1008</td>\n",
       "      <td>MA</td>\n",
       "      <td>HAMPDEN</td>\n",
       "      <td>-0.247821</td>\n",
       "      <td>0.606303</td>\n",
       "    </tr>\n",
       "  </tbody>\n",
       "</table>\n",
       "</div>"
      ],
      "text/plain": [
       "    zip stabbr   cty_name  est_per_capita  MEDFAMINC\n",
       "0  1001     MA    HAMPDEN        0.137154   0.318444\n",
       "1  1002     MA  HAMPSHIRE       -0.095429   1.340800\n",
       "2  1005     MA  WORCESTER       -0.087712   0.576214\n",
       "3  1007     MA  HAMPSHIRE       -0.303737   0.935503\n",
       "4  1008     MA    HAMPDEN       -0.247821   0.606303"
      ]
     },
     "execution_count": 17,
     "metadata": {},
     "output_type": "execute_result"
    }
   ],
   "source": [
    "std_data.head()"
   ]
  },
  {
   "cell_type": "code",
   "execution_count": 21,
   "id": "a50c7acb",
   "metadata": {},
   "outputs": [],
   "source": [
    "std_data.to_csv(\"features_std.csv\", index=True)"
   ]
  },
  {
   "cell_type": "markdown",
   "id": "311059ed",
   "metadata": {},
   "source": [
    "# Now let's select some points as initial points for clustering:"
   ]
  },
  {
   "cell_type": "code",
   "execution_count": 24,
   "id": "999b929d",
   "metadata": {},
   "outputs": [],
   "source": [
    "k_values = [ 1, 2, 3, 4, 5, 6, 7, 8, 9, 10 ]\n",
    "for k in k_values:\n",
    "    # select k rows from the standardized data\n",
    "    selected_data = std_data.sample(n=k, random_state=k)\n",
    "    # reset the index of the selected data\n",
    "    selected_data.reset_index(drop=True, inplace=True)\n",
    "    # save the selected data to a new CSV file\n",
    "    selected_data.to_csv(f\"features_std_k{k}.csv\", index=True)"
   ]
  },
  {
   "cell_type": "markdown",
   "id": "a8cb397a",
   "metadata": {},
   "source": [
    "# there are too many datapoints, let's make a subset to run the algorithm on:"
   ]
  },
  {
   "cell_type": "code",
   "execution_count": null,
   "id": "c869a41f",
   "metadata": {},
   "outputs": [],
   "source": [
    "sizes = [50, 100, 200, 500, 1000]\n",
    "for size in sizes:\n",
    "    # select a random sample of the specified size from the standardized data\n",
    "    sampled_data = std_data.sample(n=size, random_state=size)\n",
    "    # save the sampled data to a new CSV file\n",
    "    sampled_data.to_csv(f\"features_std_sample_{size}.csv\", index=True)"
   ]
  },
  {
   "cell_type": "code",
   "execution_count": null,
   "id": "74c245cc",
   "metadata": {},
   "outputs": [],
   "source": []
  }
 ],
 "metadata": {
  "kernelspec": {
   "display_name": ".venv",
   "language": "python",
   "name": "python3"
  },
  "language_info": {
   "codemirror_mode": {
    "name": "ipython",
    "version": 3
   },
   "file_extension": ".py",
   "mimetype": "text/x-python",
   "name": "python",
   "nbconvert_exporter": "python",
   "pygments_lexer": "ipython3",
   "version": "3.12.0"
  }
 },
 "nbformat": 4,
 "nbformat_minor": 5
}
